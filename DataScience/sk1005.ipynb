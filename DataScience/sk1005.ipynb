{
 "cells": [
  {
   "cell_type": "code",
   "execution_count": 3,
   "id": "62669212",
   "metadata": {},
   "outputs": [],
   "source": [
    "from sympy import *\n",
    "init_printing(use_unicode=False, no_global=True)"
   ]
  },
  {
   "cell_type": "code",
   "execution_count": 16,
   "id": "3b078d54",
   "metadata": {},
   "outputs": [
    {
     "data": {
      "image/png": "[encoded data removed]",
      "text/latex": [
       "$\\displaystyle 5.0$"
      ],
      "text/plain": [
       "5.000000000000001"
      ]
     },
     "execution_count": 16,
     "metadata": {},
     "output_type": "execute_result"
    }
   ],
   "source": [
    "((((11/4)/1.1)+(10/3))/(2.5-0.4*(10/3)))/(5/7)-((((13/6)+4.5)*0.375)/(2.75-(3/2)))"
   ]
  },
  {
   "cell_type": "code",
   "execution_count": 24,
   "id": "fca6919e",
   "metadata": {},
   "outputs": [
    {
     "data": {
      "image/png": "[encoded data removed]",
      "text/latex": [
       "$\\displaystyle 5.0$"
      ],
      "text/plain": [
       "5.0"
      ]
     },
     "execution_count": 24,
     "metadata": {},
     "output_type": "execute_result"
    }
   ],
   "source": [
    "((70/12)/(2.5-0.4*(10/3)))/(5/7)-((((13/6)+4.5)*0.375)/(2.75-(3/2)))"
   ]
  },
  {
   "cell_type": "code",
   "execution_count": 25,
   "id": "fb84fdad",
   "metadata": {},
   "outputs": [
    {
     "data": {
      "image/png": "[encoded data removed]",
      "text/latex": [
       "$\\displaystyle 5.0$"
      ],
      "text/plain": [
       "4.999999999999998"
      ]
     },
     "execution_count": 25,
     "metadata": {},
     "output_type": "execute_result"
    }
   ],
   "source": [
    "((70/12)/(35/30))/(5/7)-((((13/6)+4.5)*0.375)/(2.75-(3/2)))"
   ]
  },
  {
   "cell_type": "code",
   "execution_count": 32,
   "id": "fc8d1022",
   "metadata": {},
   "outputs": [
    {
     "data": {
      "image/png": "[encoded data removed]",
      "text/latex": [
       "$\\displaystyle 5.0$"
      ],
      "text/plain": [
       "5.0"
      ]
     },
     "execution_count": 32,
     "metadata": {},
     "output_type": "execute_result"
    }
   ],
   "source": [
    "5/(5/7)-((((13/6)+4.5)*0.375)/(2.75-(3/2)))"
   ]
  },
  {
   "cell_type": "code",
   "execution_count": 33,
   "id": "ffee32d4",
   "metadata": {},
   "outputs": [
    {
     "data": {
      "image/png": "[encoded data removed]",
      "text/latex": [
       "$\\displaystyle 5.0$"
      ],
      "text/plain": [
       "5.0"
      ]
     },
     "execution_count": 33,
     "metadata": {},
     "output_type": "execute_result"
    }
   ],
   "source": [
    "7-((((13/6)+4.5)*0.375)/(2.75-(3/2)))"
   ]
  },
  {
   "cell_type": "code",
   "execution_count": 41,
   "id": "83b00ab5",
   "metadata": {},
   "outputs": [
    {
     "data": {
      "image/png": "[encoded data removed]",
      "text/latex": [
       "$\\displaystyle 5.0$"
      ],
      "text/plain": [
       "5.0"
      ]
     },
     "execution_count": 41,
     "metadata": {},
     "output_type": "execute_result"
    }
   ],
   "source": [
    "7-((2.5)/(2.75-(3/2)))"
   ]
  },
  {
   "cell_type": "code",
   "execution_count": 48,
   "id": "bcfe591b",
   "metadata": {},
   "outputs": [
    {
     "data": {
      "image/png": "[encoded data removed]",
      "text/latex": [
       "$\\displaystyle 5.0$"
      ],
      "text/plain": [
       "5.0"
      ]
     },
     "execution_count": 48,
     "metadata": {},
     "output_type": "execute_result"
    }
   ],
   "source": [
    "7-((2.5)/(2.75-(3/2)))"
   ]
  },
  {
   "cell_type": "code",
   "execution_count": null,
   "id": "e201d8f7",
   "metadata": {},
   "outputs": [],
   "source": []
  }
 ],
 "metadata": {
  "kernelspec": {
   "display_name": "Python 3 (ipykernel)",
   "language": "python",
   "name": "python3"
  },
  "language_info": {
   "codemirror_mode": {
    "name": "ipython",
    "version": 3
   },
   "file_extension": ".py",
   "mimetype": "text/x-python",
   "name": "python",
   "nbconvert_exporter": "python",
   "pygments_lexer": "ipython3",
   "version": "3.9.12"
  }
 },
 "nbformat": 4,
 "nbformat_minor": 5
}
