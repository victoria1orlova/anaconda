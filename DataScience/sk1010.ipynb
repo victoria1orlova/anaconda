{
 "cells": [
  {
   "cell_type": "code",
   "execution_count": 32,
   "id": "62669212",
   "metadata": {},
   "outputs": [],
   "source": [
    "from sympy import *\n",
    "init_printing(use_unicode=False, no_global=True)"
   ]
  },
  {
   "cell_type": "code",
   "execution_count": 33,
   "id": "d0d033fa",
   "metadata": {},
   "outputs": [],
   "source": [
    "x = Symbol(\"x\")"
   ]
  },
  {
   "cell_type": "code",
   "execution_count": 3,
   "id": "a25cf9b7",
   "metadata": {
    "scrolled": true
   },
   "outputs": [
    {
     "data": {
      "text/plain": [
       "4.817210481825864"
      ]
     },
     "execution_count": 3,
     "metadata": {},
     "output_type": "execute_result"
    }
   ],
   "source": [
    "((227/45)-(25/6))/(75/15)/((14/3)+0.75)*(48/13)*(240/7)+(0.3/0.01/70)+(2/7)"
   ]
  },
  {
   "cell_type": "code",
   "execution_count": 7,
   "id": "5fc898f6",
   "metadata": {},
   "outputs": [
    {
     "data": {
      "text/plain": [
       "1.0152380952380948"
      ]
     },
     "execution_count": 7,
     "metadata": {},
     "output_type": "execute_result"
    }
   ],
   "source": [
    "((((227/45)-(25/6))/(75/15))/(((14/3)+0.75)*(48/13)))*(240/7)+((0.3/0.01)/70)+(2/7)"
   ]
  },
  {
   "cell_type": "code",
   "execution_count": 8,
   "id": "bd4635f6",
   "metadata": {},
   "outputs": [
    {
     "data": {
      "text/plain": [
       "0.008777777777777772"
      ]
     },
     "execution_count": 8,
     "metadata": {},
     "output_type": "execute_result"
    }
   ],
   "source": [
    "((((227/45)-(25/6))/(75/15))/(((14/3)+0.75)*(48/13)))"
   ]
  },
  {
   "cell_type": "code",
   "execution_count": null,
   "id": "f1c5fc0c",
   "metadata": {},
   "outputs": [],
   "source": []
  }
 ],
 "metadata": {
  "kernelspec": {
   "display_name": "Python 3 (ipykernel)",
   "language": "python",
   "name": "python3"
  },
  "language_info": {
   "codemirror_mode": {
    "name": "ipython",
    "version": 3
   },
   "file_extension": ".py",
   "mimetype": "text/x-python",
   "name": "python",
   "nbconvert_exporter": "python",
   "pygments_lexer": "ipython3",
   "version": "3.9.12"
  }
 },
 "nbformat": 4,
 "nbformat_minor": 5
}
