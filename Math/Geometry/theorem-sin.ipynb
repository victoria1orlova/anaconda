{
 "cells": [
  {
   "cell_type": "code",
   "execution_count": 12,
   "id": "5405a48a-b72e-469a-8d76-eccc9a42065d",
   "metadata": {},
   "outputs": [
    {
     "name": "stdout",
     "output_type": "stream",
     "text": [
      "0.7853981633974483\n"
     ]
    },
    {
     "data": {
      "image/png": "[encoded data removed]",
      "text/plain": [
       "<Figure size 432x288 with 1 Axes>"
      ]
     },
     "metadata": {
      "needs_background": "light"
     },
     "output_type": "display_data"
    },
    {
     "name": "stdout",
     "output_type": "stream",
     "text": [
      "Задано сторону AC = √6 см\n",
      "Задано кут B = 120°\n",
      "Задано кут C = 45°\n",
      "Знаходимо кут A: A = 180° - B - C = 180° - 120° - 45° = 15°\n",
      "За правилом синусів, знаходимо сторону AB:\n",
      "AB = AC * sin(B) / sin(A) = √6 * sin(120°) / sin(15°)\n",
      "AB = √6 * 0.8660254037844387 / 0.25881904510252074\n",
      "AB = 8.20 см\n"
     ]
    }
   ],
   "source": [
    "import matplotlib.pyplot as plt\n",
    "import numpy as np\n",
    "\n",
    "# Задані сторони трикутника\n",
    "AC = np.sqrt(6)\n",
    "AB = 6 * np.sqrt(2)\n",
    "\n",
    "# Задані кути\n",
    "angle_B = 120  # Кут B в градусах\n",
    "angle_C = 45   # Кут C в градусах\n",
    "\n",
    "# Знаходження кута A\n",
    "angle_A = 180 - angle_B - angle_C\n",
    "\n",
    "# Визначення координат вершин трикутника\n",
    "A = [0, 0]\n",
    "B = [AB, 0]\n",
    "C = [AC * np.cos(np.deg2rad(angle_C)), AC * np.sin(np.deg2rad(angle_C))]\n",
    "print(np.deg2rad(angle_C))\n",
    "# Побудова трикутника\n",
    "plt.plot([A[0], B[0]], [A[1], B[1]], 'b')  # AB\n",
    "plt.plot([B[0], C[0]], [B[1], C[1]], 'r')  # BC\n",
    "plt.plot([C[0], A[0]], [C[1], A[1]], 'g')  # CA\n",
    "\n",
    "# Підписи вершин\n",
    "plt.text(A[0], A[1], 'A', fontsize=12, ha='right', va='top')\n",
    "plt.text(B[0], B[1], 'B', fontsize=12, ha='left', va='top')\n",
    "plt.text(C[0], C[1], 'C', fontsize=12, ha='right', va='bottom')\n",
    "\n",
    "# Налаштування графіку\n",
    "plt.gca().set_aspect('equal', adjustable='box')  # Збереження пропорційності\n",
    "plt.grid(True)\n",
    "\n",
    "# Відображення графіку\n",
    "plt.show()\n",
    "import numpy as np\n",
    "\n",
    "# Задані сторони трикутника\n",
    "AC = np.sqrt(6)\n",
    "angle_B = 120\n",
    "angle_C = 45\n",
    "\n",
    "# Знаходження кута A\n",
    "angle_A = 180 - angle_B - angle_C\n",
    "\n",
    "# Розрахунок AB за допомогою правила синусів\n",
    "AB = AC * np.sin(np.deg2rad(angle_B)) / np.sin(np.deg2rad(angle_A))\n",
    "\n",
    "# Виведення всіх дій на екран\n",
    "print(f\"Задано сторону AC = √6 см\")\n",
    "print(f\"Задано кут B = 120°\")\n",
    "print(f\"Задано кут C = 45°\")\n",
    "print(f\"Знаходимо кут A: A = 180° - B - C = 180° - {angle_B}° - {angle_C}° = {angle_A}°\")\n",
    "print(f\"За правилом синусів, знаходимо сторону AB:\")\n",
    "print(f\"AB = AC * sin(B) / sin(A) = √6 * sin({angle_B}°) / sin({angle_A}°)\")\n",
    "print(f\"AB = √6 * {np.sin(np.deg2rad(angle_B))} / {np.sin(np.deg2rad(angle_A))}\")\n",
    "print(f\"AB = {AB:.2f} см\")\n"
   ]
  },
  {
   "cell_type": "code",
   "execution_count": null,
   "id": "18fe8026-88e7-4774-b6ea-e94aac3ec728",
   "metadata": {},
   "outputs": [],
   "source": []
  }
 ],
 "metadata": {
  "kernelspec": {
   "display_name": "Python 3 (ipykernel)",
   "language": "python",
   "name": "python3"
  },
  "language_info": {
   "codemirror_mode": {
    "name": "ipython",
    "version": 3
   },
   "file_extension": ".py",
   "mimetype": "text/x-python",
   "name": "python",
   "nbconvert_exporter": "python",
   "pygments_lexer": "ipython3",
   "version": "3.9.12"
  }
 },
 "nbformat": 4,
 "nbformat_minor": 5
}
