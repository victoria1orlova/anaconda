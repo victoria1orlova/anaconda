{
 "cells": [
  {
   "cell_type": "code",
   "execution_count": 4,
   "id": "5405a48a-b72e-469a-8d76-eccc9a42065d",
   "metadata": {},
   "outputs": [
    {
     "data": {
      "text/latex": [
       "$\\displaystyle x - 1 < \\frac{3 x}{2} + \\frac{1}{6}$"
      ],
      "text/plain": [
       "x - 1 < 3*x/2 + 1/6"
      ]
     },
     "execution_count": 4,
     "metadata": {},
     "output_type": "execute_result"
    }
   ],
   "source": [
    "import sympy as sp\n",
    "\n",
    "# Step 1: Define the variable and inequality\n",
    "x = sp.symbols('x')\n",
    "inequality = x - 1 < (3*x - 1)/3 + (x+1)/2\n",
    "\n",
    "# Display the original inequality\n",
    "inequality\n",
    "\n",
    "\n"
   ]
  },
  {
   "cell_type": "code",
   "execution_count": 5,
   "id": "66ecc655-636d-412d-a6c3-270af88fb159",
   "metadata": {},
   "outputs": [
    {
     "data": {
      "text/latex": [
       "$\\displaystyle x > - \\frac{7}{3}$"
      ],
      "text/plain": [
       "x > -7/3"
      ]
     },
     "execution_count": 5,
     "metadata": {},
     "output_type": "execute_result"
    }
   ],
   "source": [
    "# Step 2: Simplify the inequality\n",
    "simplified_inequality = sp.simplify(inequality)\n",
    "\n",
    "# Display the simplified inequality\n",
    "simplified_inequality"
   ]
  },
  {
   "cell_type": "code",
   "execution_count": null,
   "id": "70cb224f-4fc8-4c07-94f0-95013ea84b54",
   "metadata": {},
   "outputs": [],
   "source": []
  }
 ],
 "metadata": {
  "kernelspec": {
   "display_name": "Python 3 (ipykernel)",
   "language": "python",
   "name": "python3"
  },
  "language_info": {
   "codemirror_mode": {
    "name": "ipython",
    "version": 3
   },
   "file_extension": ".py",
   "mimetype": "text/x-python",
   "name": "python",
   "nbconvert_exporter": "python",
   "pygments_lexer": "ipython3",
   "version": "3.9.12"
  }
 },
 "nbformat": 4,
 "nbformat_minor": 5
}
